{
 "cells": [
  {
   "cell_type": "code",
   "execution_count": 2,
   "outputs": [],
   "source": [
    "import random as rd\n",
    "\n",
    "rueckgabe = {1: 0, 2:0, 3:0}\n",
    "anzahl_wuerfe = 10000000\n",
    "\n",
    "\n",
    "#Würfe x Mal wiederholen\n",
    "for i in range(anzahl_wuerfe):\n",
    "\n",
    "    treffer = {}\n",
    "\n",
    "    #3 Würfe simulieren und Frequency-Table erstellen\n",
    "    for i in range(3):\n",
    "        zufallsnummer = rd.randint(1, 6)\n",
    "\n",
    "        if zufallsnummer not in treffer:\n",
    "            treffer[zufallsnummer] = 1\n",
    "        else:\n",
    "            treffer[zufallsnummer] += 1\n",
    "\n",
    "\n",
    "    #Frequency-Table auswerten\n",
    "    if len(treffer) == 3:\n",
    "        rueckgabe[3] += 1\n",
    "    elif len(treffer) == 2:\n",
    "        rueckgabe[2] += 1\n",
    "    else:\n",
    "        rueckgabe[1] += 1"
   ],
   "metadata": {
    "collapsed": false,
    "pycharm": {
     "name": "#%%\n"
    }
   }
  },
  {
   "cell_type": "code",
   "execution_count": 3,
   "outputs": [
    {
     "name": "stdout",
     "output_type": "stream",
     "text": [
      "Simulation\n",
      "Ein Hase stirbt: 2.77239 %\n",
      "Zwei Hasen sterben: 41.68416 %\n",
      "Drei Hasen sterben: 55.54345000000001 %\n",
      "Hundert Prozent: 100.0 %\n"
     ]
    }
   ],
   "source": [
    "print(\"Simulation:\")\n",
    "print(\"Ein Hase stirbt:\", (rueckgabe[1] / anzahl_wuerfe) * 100, \"%\")\n",
    "print(\"Zwei Hasen sterben:\", (rueckgabe[2] / anzahl_wuerfe) * 100, \"%\")\n",
    "print(\"Drei Hasen sterben:\", (rueckgabe[3] / anzahl_wuerfe) * 100, \"%\")\n",
    "print(\"Hundert Prozent:\", ((rueckgabe[1] + rueckgabe[2] + rueckgabe[3]) / anzahl_wuerfe) * 100, \"%\")"
   ],
   "metadata": {
    "collapsed": false,
    "pycharm": {
     "name": "#%%\n"
    }
   }
  },
  {
   "cell_type": "code",
   "execution_count": 4,
   "outputs": [
    {
     "name": "stdout",
     "output_type": "stream",
     "text": [
      "Mathematische Berechnung\n",
      "Ein Hase stirbt: 2.7777777777777777 %\n",
      "Zwei Hasen sterben: 41.66666666666667 %\n",
      "Drei Hasen sterben: 55.55555555555556 %\n",
      "Hundert Prozent: 100.0 %\n"
     ]
    }
   ],
   "source": [
    "#6 ** 3 = Wahrscheinlichkeit für irgendeinen Ausgang\n",
    "#6 / 216 = Wahrscheinlichkeit ein Hase tot\n",
    "#90 = Wahrscheinlichkeit zwei Hasen tot\n",
    "#6 * 5 * 4 = Wahrscheinlichkeit drei Hasen tot\n",
    "\n",
    "print(\"Mathematische Berechnung:\")\n",
    "print(\"Ein Hase stirbt:\", (6 / 216) * 100, \"%\")\n",
    "print(\"Zwei Hasen sterben:\", (90 / 216) * 100, \"%\")\n",
    "print(\"Drei Hasen sterben:\", (120 / 216) * 100, \"%\")\n",
    "print(\"Hundert Prozent:\", ((rueckgabe[1] + rueckgabe[2] + rueckgabe[3]) / anzahl_wuerfe) * 100, \"%\")"
   ],
   "metadata": {
    "collapsed": false,
    "pycharm": {
     "name": "#%%\n"
    }
   }
  }
 ],
 "metadata": {
  "kernelspec": {
   "display_name": "Python 3",
   "language": "python",
   "name": "python3"
  },
  "language_info": {
   "codemirror_mode": {
    "name": "ipython",
    "version": 2
   },
   "file_extension": ".py",
   "mimetype": "text/x-python",
   "name": "python",
   "nbconvert_exporter": "python",
   "pygments_lexer": "ipython2",
   "version": "2.7.6"
  }
 },
 "nbformat": 4,
 "nbformat_minor": 0
}